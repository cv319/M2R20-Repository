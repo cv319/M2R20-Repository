{
 "cells": [
  {
   "cell_type": "code",
   "execution_count": 22,
   "metadata": {},
   "outputs": [
    {
     "data": {
      "text/latex": [
       "$\\displaystyle \\frac{a_{1} a^{2}{\\left(t \\right)} b{\\left(t \\right)} e^{4 i \\omega t}}{8} + \\frac{a_{1} a^{2}{\\left(t \\right)} \\overline{b{\\left(t \\right)}}}{8} + \\frac{a_{1} a{\\left(t \\right)} b{\\left(t \\right)} e^{2 i \\omega t} \\overline{a{\\left(t \\right)}}}{4} + \\frac{a_{1} a{\\left(t \\right)} e^{- 2 i \\omega t} \\overline{a{\\left(t \\right)}} \\overline{b{\\left(t \\right)}}}{4} + \\frac{a_{1} b{\\left(t \\right)} \\overline{a{\\left(t \\right)}}^{2}}{8} + \\frac{a_{1} e^{- 4 i \\omega t} \\overline{a{\\left(t \\right)}}^{2} \\overline{b{\\left(t \\right)}}}{8} + \\frac{a_{2} a^{2}{\\left(t \\right)} c{\\left(t \\right)} e^{4 i \\omega t}}{8} + \\frac{a_{2} a^{2}{\\left(t \\right)} \\overline{c{\\left(t \\right)}}}{8} + \\frac{a_{2} a{\\left(t \\right)} c{\\left(t \\right)} e^{2 i \\omega t} \\overline{a{\\left(t \\right)}}}{4} + \\frac{a_{2} a{\\left(t \\right)} e^{- 2 i \\omega t} \\overline{a{\\left(t \\right)}} \\overline{c{\\left(t \\right)}}}{4} + \\frac{a_{2} c{\\left(t \\right)} \\overline{a{\\left(t \\right)}}^{2}}{8} + \\frac{a_{2} e^{- 4 i \\omega t} \\overline{a{\\left(t \\right)}}^{2} \\overline{c{\\left(t \\right)}}}{8} - 0.125 \\omega^{2} a^{2}{\\left(t \\right)} e^{2 i \\omega t} + 0.25 \\omega^{2} a{\\left(t \\right)} \\overline{a{\\left(t \\right)}} - 0.5 \\omega^{2} b^{2}{\\left(t \\right)} e^{4 i \\omega t} + 1.0 \\omega^{2} b{\\left(t \\right)} \\overline{b{\\left(t \\right)}} - 0.5 \\omega^{2} c^{2}{\\left(t \\right)} e^{4 i \\omega t} + 1.0 \\omega^{2} c{\\left(t \\right)} \\overline{c{\\left(t \\right)}} - 0.125 \\omega^{2} e^{- 2 i \\omega t} \\overline{a{\\left(t \\right)}}^{2} - 0.5 \\omega^{2} e^{- 4 i \\omega t} \\overline{b{\\left(t \\right)}}^{2} - 0.5 \\omega^{2} e^{- 4 i \\omega t} \\overline{c{\\left(t \\right)}}^{2} + 0.25 i \\omega a{\\left(t \\right)} e^{2 i \\omega t} \\frac{d}{d t} a{\\left(t \\right)} + 0.25 i \\omega a{\\left(t \\right)} \\frac{d}{d t} \\overline{a{\\left(t \\right)}} + 0.5 i \\omega b{\\left(t \\right)} e^{4 i \\omega t} \\frac{d}{d t} b{\\left(t \\right)} + 0.5 i \\omega b{\\left(t \\right)} \\frac{d}{d t} \\overline{b{\\left(t \\right)}} + 0.5 i \\omega c{\\left(t \\right)} e^{4 i \\omega t} \\frac{d}{d t} c{\\left(t \\right)} + 0.5 i \\omega c{\\left(t \\right)} \\frac{d}{d t} \\overline{c{\\left(t \\right)}} - 0.25 i \\omega \\overline{a{\\left(t \\right)}} \\frac{d}{d t} a{\\left(t \\right)} - 0.5 i \\omega \\overline{b{\\left(t \\right)}} \\frac{d}{d t} b{\\left(t \\right)} - 0.5 i \\omega \\overline{c{\\left(t \\right)}} \\frac{d}{d t} c{\\left(t \\right)} - 0.25 i \\omega e^{- 2 i \\omega t} \\overline{a{\\left(t \\right)}} \\frac{d}{d t} \\overline{a{\\left(t \\right)}} - 0.5 i \\omega e^{- 4 i \\omega t} \\overline{b{\\left(t \\right)}} \\frac{d}{d t} \\overline{b{\\left(t \\right)}} - 0.5 i \\omega e^{- 4 i \\omega t} \\overline{c{\\left(t \\right)}} \\frac{d}{d t} \\overline{c{\\left(t \\right)}} - 0.125 a^{2}{\\left(t \\right)} e^{2 i \\omega t} - 0.25 a{\\left(t \\right)} \\overline{a{\\left(t \\right)}} - 0.5 b^{2}{\\left(t \\right)} e^{4 i \\omega t} - 1.0 b{\\left(t \\right)} \\overline{b{\\left(t \\right)}} - 0.5 c^{2}{\\left(t \\right)} e^{4 i \\omega t} - 1.0 c{\\left(t \\right)} \\overline{c{\\left(t \\right)}} + 0.125 e^{4 i \\omega t} \\left(\\frac{d}{d t} b{\\left(t \\right)}\\right)^{2} + 0.125 e^{4 i \\omega t} \\left(\\frac{d}{d t} c{\\left(t \\right)}\\right)^{2} + 0.125 e^{2 i \\omega t} \\left(\\frac{d}{d t} a{\\left(t \\right)}\\right)^{2} + 0.25 \\frac{d}{d t} a{\\left(t \\right)} \\frac{d}{d t} \\overline{a{\\left(t \\right)}} + 0.25 \\frac{d}{d t} b{\\left(t \\right)} \\frac{d}{d t} \\overline{b{\\left(t \\right)}} + 0.25 \\frac{d}{d t} c{\\left(t \\right)} \\frac{d}{d t} \\overline{c{\\left(t \\right)}} - 0.125 e^{- 2 i \\omega t} \\overline{a{\\left(t \\right)}}^{2} + 0.125 e^{- 2 i \\omega t} \\left(\\frac{d}{d t} \\overline{a{\\left(t \\right)}}\\right)^{2} - 0.5 e^{- 4 i \\omega t} \\overline{b{\\left(t \\right)}}^{2} - 0.5 e^{- 4 i \\omega t} \\overline{c{\\left(t \\right)}}^{2} + 0.125 e^{- 4 i \\omega t} \\left(\\frac{d}{d t} \\overline{b{\\left(t \\right)}}\\right)^{2} + 0.125 e^{- 4 i \\omega t} \\left(\\frac{d}{d t} \\overline{c{\\left(t \\right)}}\\right)^{2}$"
      ],
      "text/plain": [
       "a_1*a(t)**2*b(t)*exp(4*I*omega*t)/8 + a_1*a(t)**2*conjugate(b(t))/8 + a_1*a(t)*b(t)*exp(2*I*omega*t)*conjugate(a(t))/4 + a_1*a(t)*exp(-2*I*omega*t)*conjugate(a(t))*conjugate(b(t))/4 + a_1*b(t)*conjugate(a(t))**2/8 + a_1*exp(-4*I*omega*t)*conjugate(a(t))**2*conjugate(b(t))/8 + a_2*a(t)**2*c(t)*exp(4*I*omega*t)/8 + a_2*a(t)**2*conjugate(c(t))/8 + a_2*a(t)*c(t)*exp(2*I*omega*t)*conjugate(a(t))/4 + a_2*a(t)*exp(-2*I*omega*t)*conjugate(a(t))*conjugate(c(t))/4 + a_2*c(t)*conjugate(a(t))**2/8 + a_2*exp(-4*I*omega*t)*conjugate(a(t))**2*conjugate(c(t))/8 - 0.125*omega**2*a(t)**2*exp(2*I*omega*t) + 0.25*omega**2*a(t)*conjugate(a(t)) - 0.5*omega**2*b(t)**2*exp(4*I*omega*t) + 1.0*omega**2*b(t)*conjugate(b(t)) - 0.5*omega**2*c(t)**2*exp(4*I*omega*t) + 1.0*omega**2*c(t)*conjugate(c(t)) - 0.125*omega**2*exp(-2*I*omega*t)*conjugate(a(t))**2 - 0.5*omega**2*exp(-4*I*omega*t)*conjugate(b(t))**2 - 0.5*omega**2*exp(-4*I*omega*t)*conjugate(c(t))**2 + 0.25*I*omega*a(t)*exp(2*I*omega*t)*Derivative(a(t), t) + 0.25*I*omega*a(t)*Derivative(conjugate(a(t)), t) + 0.5*I*omega*b(t)*exp(4*I*omega*t)*Derivative(b(t), t) + 0.5*I*omega*b(t)*Derivative(conjugate(b(t)), t) + 0.5*I*omega*c(t)*exp(4*I*omega*t)*Derivative(c(t), t) + 0.5*I*omega*c(t)*Derivative(conjugate(c(t)), t) - 0.25*I*omega*conjugate(a(t))*Derivative(a(t), t) - 0.5*I*omega*conjugate(b(t))*Derivative(b(t), t) - 0.5*I*omega*conjugate(c(t))*Derivative(c(t), t) - 0.25*I*omega*exp(-2*I*omega*t)*conjugate(a(t))*Derivative(conjugate(a(t)), t) - 0.5*I*omega*exp(-4*I*omega*t)*conjugate(b(t))*Derivative(conjugate(b(t)), t) - 0.5*I*omega*exp(-4*I*omega*t)*conjugate(c(t))*Derivative(conjugate(c(t)), t) - 0.125*a(t)**2*exp(2*I*omega*t) - 0.25*a(t)*conjugate(a(t)) - 0.5*b(t)**2*exp(4*I*omega*t) - 1.0*b(t)*conjugate(b(t)) - 0.5*c(t)**2*exp(4*I*omega*t) - 1.0*c(t)*conjugate(c(t)) + 0.125*exp(4*I*omega*t)*Derivative(b(t), t)**2 + 0.125*exp(4*I*omega*t)*Derivative(c(t), t)**2 + 0.125*exp(2*I*omega*t)*Derivative(a(t), t)**2 + 0.25*Derivative(a(t), t)*Derivative(conjugate(a(t)), t) + 0.25*Derivative(b(t), t)*Derivative(conjugate(b(t)), t) + 0.25*Derivative(c(t), t)*Derivative(conjugate(c(t)), t) - 0.125*exp(-2*I*omega*t)*conjugate(a(t))**2 + 0.125*exp(-2*I*omega*t)*Derivative(conjugate(a(t)), t)**2 - 0.5*exp(-4*I*omega*t)*conjugate(b(t))**2 - 0.5*exp(-4*I*omega*t)*conjugate(c(t))**2 + 0.125*exp(-4*I*omega*t)*Derivative(conjugate(b(t)), t)**2 + 0.125*exp(-4*I*omega*t)*Derivative(conjugate(c(t)), t)**2"
      ]
     },
     "execution_count": 22,
     "metadata": {},
     "output_type": "execute_result"
    }
   ],
   "source": [
    "#This is a notebook used to compute the average lagrangian of 122\n",
    "#It has no figures\n",
    "\n",
    "import sympy as sp\n",
    "\n",
    "r,O,Gamma, u_0,R,D,p0,rho,l,omega,t,gamma,a_1,a_2=sp.symbols('r O Gamma u_0 R D p0 rho l omega t gamma a_1 a_2')\n",
    "#1:2:2 resonance\n",
    "a = sp.Function(\"a\")(t)\n",
    "b = sp.Function(\"b\")(t)\n",
    "c = sp.Function(\"c\")(t)\n",
    "#a,b,c =sp.symbols('a b c')\n",
    "x_=sp.re(a*sp.exp(omega*t*sp.I))\n",
    "x_=(a*sp.exp(omega*t*sp.I)+sp.conjugate(a)*sp.exp(-omega*t*sp.I))/2\n",
    "y_=(b*sp.exp(2*omega*t*sp.I)+sp.conjugate(b)*sp.exp(-2*omega*t*sp.I))/2\n",
    "z_=(c*sp.exp(2*omega*t*sp.I)+sp.conjugate(c)*sp.exp(-2*omega*t*sp.I))/2\n",
    "\n",
    "x_dot=sp.diff(x_,t)\n",
    "y_dot=sp.diff(y_,t)\n",
    "z_dot=sp.diff(z_,t)\n",
    "\n",
    "L2 = 1/2*(x_dot**2+y_dot**2+z_dot**2)-1/2*(x_**2+4*y_**2+4*z_**2)+x_**2*(a_1*y_+a_2*z_)\n",
    "L2\n",
    "Lexp=sp.expand(L2)\n",
    "\n",
    "Lexp"
   ]
  },
  {
   "cell_type": "code",
   "execution_count": 18,
   "metadata": {},
   "outputs": [
    {
     "data": {
      "text/latex": [
       "$\\displaystyle \\frac{a_{1} a^{2}{\\left(t \\right)} \\overline{b{\\left(t \\right)}}}{8} + \\frac{a_{1} b{\\left(t \\right)} \\overline{a{\\left(t \\right)}}^{2}}{8} + \\frac{a_{2} a^{2}{\\left(t \\right)} \\overline{c{\\left(t \\right)}}}{8} + \\frac{a_{2} c{\\left(t \\right)} \\overline{a{\\left(t \\right)}}^{2}}{8} + \\frac{i a{\\left(t \\right)} \\overline{\\operatorname{a_{dot}}{\\left(t \\right)}}}{4} - \\frac{i \\operatorname{a_{dot}}{\\left(t \\right)} \\overline{a{\\left(t \\right)}}}{4} + \\frac{i b{\\left(t \\right)} \\overline{\\operatorname{b_{dot}}{\\left(t \\right)}}}{2} - \\frac{i \\operatorname{b_{dot}}{\\left(t \\right)} \\overline{b{\\left(t \\right)}}}{2} + \\frac{i c{\\left(t \\right)} \\overline{\\operatorname{c_{dot}}{\\left(t \\right)}}}{2} - \\frac{i \\operatorname{c_{dot}}{\\left(t \\right)} \\overline{c{\\left(t \\right)}}}{2}$"
      ],
      "text/plain": [
       "a_1*a(t)**2*conjugate(b(t))/8 + a_1*b(t)*conjugate(a(t))**2/8 + a_2*a(t)**2*conjugate(c(t))/8 + a_2*c(t)*conjugate(a(t))**2/8 + I*a(t)*conjugate(a_dot(t))/4 - I*a_dot(t)*conjugate(a(t))/4 + I*b(t)*conjugate(b_dot(t))/2 - I*b_dot(t)*conjugate(b(t))/2 + I*c(t)*conjugate(c_dot(t))/2 - I*c_dot(t)*conjugate(c(t))/2"
      ]
     },
     "execution_count": 18,
     "metadata": {},
     "output_type": "execute_result"
    }
   ],
   "source": [
    "a_dot = sp.Function(\"a_dot\")(t)\n",
    "b_dot = sp.Function(\"b_dot\")(t)\n",
    "c_dot = sp.Function(\"c_dot\")(t)\n",
    "L2_avg =  a_1*a**2*sp.conjugate(b)/8 + a_1*sp.conjugate(a)**2*b/8 +a_2*a**2*sp.conjugate(c)/8+a_2*sp.conjugate(a)**2*c/8+sp.I*a*sp.conjugate(a_dot)/4+sp.I*b*sp.conjugate(b_dot)/2+sp.I*c*sp.conjugate(c_dot)/2-sp.I*sp.conjugate(a)*a_dot/4-sp.I*sp.conjugate(b)*b_dot/2-sp.I*sp.conjugate(c)*c_dot/2\n",
    "\n",
    "L2_avg"
   ]
  },
  {
   "cell_type": "code",
   "execution_count": 20,
   "metadata": {},
   "outputs": [
    {
     "data": {
      "text/latex": [
       "$\\displaystyle \\frac{a_{1} a{\\left(t \\right)} \\overline{b{\\left(t \\right)}}}{4} + \\frac{a_{1} b{\\left(t \\right)} \\overline{a{\\left(t \\right)}} \\frac{d}{d a{\\left(t \\right)}} \\overline{a{\\left(t \\right)}}}{4} + \\frac{a_{2} a{\\left(t \\right)} \\overline{c{\\left(t \\right)}}}{4} + \\frac{a_{2} c{\\left(t \\right)} \\overline{a{\\left(t \\right)}} \\frac{d}{d a{\\left(t \\right)}} \\overline{a{\\left(t \\right)}}}{4} - \\frac{i \\operatorname{a_{dot}}{\\left(t \\right)} \\frac{d}{d a{\\left(t \\right)}} \\overline{a{\\left(t \\right)}}}{4} + \\frac{i \\overline{\\operatorname{a_{dot}}{\\left(t \\right)}}}{4}$"
      ],
      "text/plain": [
       "a_1*a(t)*conjugate(b(t))/4 + a_1*b(t)*conjugate(a(t))*Derivative(conjugate(a(t)), a(t))/4 + a_2*a(t)*conjugate(c(t))/4 + a_2*c(t)*conjugate(a(t))*Derivative(conjugate(a(t)), a(t))/4 - I*a_dot(t)*Derivative(conjugate(a(t)), a(t))/4 + I*conjugate(a_dot(t))/4"
      ]
     },
     "execution_count": 20,
     "metadata": {},
     "output_type": "execute_result"
    }
   ],
   "source": [
    "sp.diff(L2_avg,a)"
   ]
  },
  {
   "cell_type": "code",
   "execution_count": 21,
   "metadata": {},
   "outputs": [
    {
     "data": {
      "text/latex": [
       "$\\displaystyle \\frac{i a{\\left(t \\right)} \\frac{d}{d \\operatorname{a_{dot}}{\\left(t \\right)}} \\overline{\\operatorname{a_{dot}}{\\left(t \\right)}}}{4} - \\frac{i \\overline{a{\\left(t \\right)}}}{4}$"
      ],
      "text/plain": [
       "I*a(t)*Derivative(conjugate(a_dot(t)), a_dot(t))/4 - I*conjugate(a(t))/4"
      ]
     },
     "execution_count": 21,
     "metadata": {},
     "output_type": "execute_result"
    }
   ],
   "source": [
    "sp.diff(L2_avg, a_dot)"
   ]
  },
  {
   "cell_type": "code",
   "execution_count": 25,
   "metadata": {},
   "outputs": [
    {
     "data": {
      "text/latex": [
       "$\\displaystyle \\frac{i b{\\left(t \\right)} \\frac{d}{d \\operatorname{b_{dot}}{\\left(t \\right)}} \\overline{\\operatorname{b_{dot}}{\\left(t \\right)}}}{2} - \\frac{i \\overline{b{\\left(t \\right)}}}{2}$"
      ],
      "text/plain": [
       "I*b(t)*Derivative(conjugate(b_dot(t)), b_dot(t))/2 - I*conjugate(b(t))/2"
      ]
     },
     "execution_count": 25,
     "metadata": {},
     "output_type": "execute_result"
    }
   ],
   "source": [
    "sp.diff(L2_avg, b_dot)"
   ]
  },
  {
   "cell_type": "code",
   "execution_count": 31,
   "metadata": {},
   "outputs": [
    {
     "data": {
      "text/latex": [
       "$\\displaystyle R^{2}{\\left(t \\right)} \\sin^{2}{\\left(\\theta{\\left(t \\right)} \\right)} \\frac{d}{d t} \\phi{\\left(t \\right)}$"
      ],
      "text/plain": [
       "R(t)**2*sin(theta(t))**2*Derivative(phi(t), t)"
      ]
     },
     "execution_count": 31,
     "metadata": {},
     "output_type": "execute_result"
    }
   ],
   "source": [
    "#angular momentum in spherical coord\n",
    "#This is just a check\n",
    "R,theta, phi =sp.symbols('R theta phi')\n",
    "R = sp.Function(\"R\")(t)\n",
    "theta = sp.Function(\"theta\")(t)\n",
    "phi = sp.Function(\"phi\")(t)\n",
    "x = R*sp.cos(phi)*sp.sin(theta)\n",
    "y = R*sp.sin(phi)*sp.sin(theta)\n",
    "J=x*sp.diff(y,t)-y*sp.diff(x,t)\n",
    "sp.simplify(sp.expand(J))"
   ]
  },
  {
   "cell_type": "code",
   "execution_count": null,
   "metadata": {},
   "outputs": [],
   "source": []
  }
 ],
 "metadata": {
  "kernelspec": {
   "display_name": "Python 3",
   "language": "python",
   "name": "python3"
  },
  "language_info": {
   "codemirror_mode": {
    "name": "ipython",
    "version": 3
   },
   "file_extension": ".py",
   "mimetype": "text/x-python",
   "name": "python",
   "nbconvert_exporter": "python",
   "pygments_lexer": "ipython3",
   "version": "3.7.4"
  }
 },
 "nbformat": 4,
 "nbformat_minor": 2
}
